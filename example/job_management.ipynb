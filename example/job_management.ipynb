{
 "cells": [
  {
   "cell_type": "code",
   "execution_count": 1,
   "id": "d85aa6f6-2e1f-4c61-8468-f3f0359dad66",
   "metadata": {},
   "outputs": [
    {
     "name": "stdout",
     "output_type": "stream",
     "text": [
      "project (name=job_management) is not created.\n",
      "please create project by create_project().\n",
      "project (name=job_management) is created.\n"
     ]
    }
   ],
   "source": [
    "# Initial setup for JobStorm to use Jenkins project.\n",
    "# No need to run this cell after the initial setup.\n",
    "from jobstorm import *\n",
    "jobstorm = JobStorm(\"http://localhost:8080\",\n",
    "                    username=\"jenkins_run\",\n",
    "                    password=\"jenkins_run\",\n",
    "                    shared_dir=\"/home/shared\",\n",
    "                    project=\"job_management\",\n",
    "                    python_cmd=\"python3\",\n",
    "                   )\n",
    "# Create a Jenkins project and a job workspace.\n",
    "jobstorm.create_project()"
   ]
  },
  {
   "cell_type": "code",
   "execution_count": 1,
   "id": "7eacaa2a-da16-4419-a945-75bf71ed3d76",
   "metadata": {},
   "outputs": [
    {
     "name": "stdout",
     "output_type": "stream",
     "text": [
      "/home/shared/job_management already exists.\n"
     ]
    }
   ],
   "source": [
    "from jobstorm import *\n",
    "# jobstorm = JobStorm(shared_dir=\"/home/shared\", project=\"jobstorm\", python_cmd=\"python3\")\n",
    "jobstorm = JobStorm.python(shared_dir=\"/home/shared\", project=\"job_management\", job_cmd=\"python3\")\n",
    "\n",
    "# Import\n",
    "import time\n",
    "\n",
    "# Set the above import code to JobStorm.\n",
    "jobstorm.setcode()"
   ]
  },
  {
   "cell_type": "code",
   "execution_count": 2,
   "id": "8bd85e4d-40d1-4804-94b8-0e22095d7a90",
   "metadata": {},
   "outputs": [],
   "source": [
    "# Function definition\n",
    "def my_task(t):\n",
    "    time.sleep(t)\n",
    "    return t, f\"this is a test. {t} seconds sleep.\"\n"
   ]
  },
  {
   "cell_type": "code",
   "execution_count": 3,
   "id": "7af62038-062b-4f8d-bd1d-37408798fcf7",
   "metadata": {},
   "outputs": [
    {
     "data": {
      "text/plain": [
       "'/home/shared/job_management/tmp_20230730124032635340.py'"
      ]
     },
     "execution_count": 3,
     "metadata": {},
     "output_type": "execute_result"
    }
   ],
   "source": [
    "# Set all function definitions to JobStorm.\n",
    "# JobStorm outputs a function script file.\n",
    "jobstorm.savefunc()"
   ]
  },
  {
   "cell_type": "code",
   "execution_count": 7,
   "id": "970c80b2-72d1-4cc3-80e3-81f57699a342",
   "metadata": {},
   "outputs": [],
   "source": [
    "# Run \"my_task\" function as a job.\n",
    "# JobStorm outputs a job script file.\n",
    "t = 7\n",
    "jobresult = jobstorm.makefuncjob(\"my_task\", t)\n",
    "jobresult.set_message(f\"my_task t={t}\")"
   ]
  },
  {
   "cell_type": "code",
   "execution_count": 8,
   "id": "7a0c86d2-a43b-4812-81ab-dceadb4e4aeb",
   "metadata": {},
   "outputs": [
    {
     "name": "stdout",
     "output_type": "stream",
     "text": [
      "SUCCESS\n"
     ]
    }
   ],
   "source": [
    "# Check the job status.\n",
    "print(jobresult.get_status())"
   ]
  },
  {
   "cell_type": "code",
   "execution_count": 9,
   "id": "b42327d4-42d6-46d8-b147-432a515c9780",
   "metadata": {},
   "outputs": [
    {
     "name": "stdout",
     "output_type": "stream",
     "text": [
      "  job num  timestamp            result    message\n",
      "---------  -------------------  --------  -----------\n",
      "       10  2023/07/30 12:42:39  SUCCESS   my_task t=7\n",
      "        9  2023/07/30 12:42:19  SUCCESS   my_task t=6\n",
      "        8  2023/07/30 12:41:34  SUCCESS   my_task t=5\n"
     ]
    }
   ],
   "source": [
    "# Show the job list of the Jenkins project.\n",
    "jobstorm.print_job_list()"
   ]
  },
  {
   "cell_type": "code",
   "execution_count": 10,
   "id": "f9363b59-75f7-48c5-b44c-d91c09a0468f",
   "metadata": {},
   "outputs": [
    {
     "name": "stdout",
     "output_type": "stream",
     "text": [
      "(7, 'this is a test. 7 seconds sleep.')\n"
     ]
    }
   ],
   "source": [
    "# Retrieve the result of the job.\n",
    "result = jobresult.get_result()\n",
    "print(result)"
   ]
  },
  {
   "cell_type": "code",
   "execution_count": 11,
   "id": "938ffac5-bf44-4749-844d-6dca10a1e006",
   "metadata": {},
   "outputs": [
    {
     "name": "stdout",
     "output_type": "stream",
     "text": [
      "(6, 'this is a test. 6 seconds sleep.')\n"
     ]
    }
   ],
   "source": [
    "# Retrieve the result of the job.\n",
    "jobresult = jobstorm.get_jobresult(9)\n",
    "result = jobresult.get_result()\n",
    "print(result)"
   ]
  },
  {
   "cell_type": "code",
   "execution_count": 12,
   "id": "8662c9af-d467-4aa2-93f1-bd56137b5c82",
   "metadata": {},
   "outputs": [
    {
     "name": "stdout",
     "output_type": "stream",
     "text": [
      "/home/shared/job_management/tmp_20230730124125117484_job.py is removed.\n",
      "/home/shared/job_management/tmp_20230730124125117484.param is removed.\n",
      "/home/shared/job_management/tmp_20230730124125117484.param.output is removed.\n",
      "/home/shared/job_management/tmp_20230730124125117484.message is removed.\n",
      "/home/shared/job_management/tmp_20230730124032635340.py is removed.\n"
     ]
    }
   ],
   "source": [
    "# Delete job\n",
    "jobstorm.delete_job(8)"
   ]
  },
  {
   "cell_type": "code",
   "execution_count": 13,
   "id": "dd348e13-30a7-41a0-8a39-8b8f280f085f",
   "metadata": {},
   "outputs": [
    {
     "name": "stdout",
     "output_type": "stream",
     "text": [
      "  job num  timestamp            result    message\n",
      "---------  -------------------  --------  -----------\n",
      "       10  2023/07/30 12:42:39  SUCCESS   my_task t=7\n",
      "        9  2023/07/30 12:42:19  SUCCESS   my_task t=6\n"
     ]
    }
   ],
   "source": [
    "# Show the job list of the Jenkins project.\n",
    "jobstorm.print_job_list()"
   ]
  },
  {
   "cell_type": "code",
   "execution_count": null,
   "id": "812fb81f-7857-4a29-b6b7-411f94496bfe",
   "metadata": {},
   "outputs": [],
   "source": []
  }
 ],
 "metadata": {
  "kernelspec": {
   "display_name": "Python 3 (ipykernel)",
   "language": "python",
   "name": "python3"
  },
  "language_info": {
   "codemirror_mode": {
    "name": "ipython",
    "version": 3
   },
   "file_extension": ".py",
   "mimetype": "text/x-python",
   "name": "python",
   "nbconvert_exporter": "python",
   "pygments_lexer": "ipython3",
   "version": "3.10.6"
  }
 },
 "nbformat": 4,
 "nbformat_minor": 5
}
