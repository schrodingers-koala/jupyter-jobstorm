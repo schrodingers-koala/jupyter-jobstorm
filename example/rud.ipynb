{
 "cells": [
  {
   "cell_type": "markdown",
   "id": "e68164eb-a9f0-4ef2-a6ec-8b616ee41e3b",
   "metadata": {},
   "source": [
    "# Regular uniform designs"
   ]
  },
  {
   "cell_type": "markdown",
   "id": "4f16fa5e-4869-4652-a68d-6d760149c814",
   "metadata": {},
   "source": [
    "This example solves regular uniform designs by a quantum algorithm.\n",
    "Regular uniform designs (v, b, r, k) are the designs (v columns (=elements), b rows (=blocks)) which are regular and uniform such that each block contains k elements and each element is contained in r blocks."
   ]
  },
  {
   "cell_type": "code",
   "execution_count": null,
   "id": "dbc6d029-199a-42f6-90ef-93366deb8317",
   "metadata": {},
   "outputs": [],
   "source": [
    "# Initial setup for JobStorm to use Jenkins project.\n",
    "# No need to run this cell after the initial setup.\n",
    "from jobstorm import *\n",
    "jobstorm = JobStorm(\"http://localhost:8080\",\n",
    "                    username=\"jenkins_run\",\n",
    "                    password=\"jenkins_run\",\n",
    "                    shared_dir=\"/home/shared\",\n",
    "                    project=\"jobstorm\",\n",
    "                    python_cmd=\"python3\",\n",
    "                   )\n",
    "# Create a Jenkins project and a job workspace.\n",
    "jobstorm.create_project()"
   ]
  },
  {
   "cell_type": "code",
   "execution_count": 1,
   "id": "6371570b-4e60-4d9f-89de-6e92233e25b2",
   "metadata": {},
   "outputs": [
    {
     "name": "stdout",
     "output_type": "stream",
     "text": [
      "/home/shared/jobstorm already exists.\n",
      "Imports Successful\n"
     ]
    }
   ],
   "source": [
    "from jobstorm import *\n",
    "jobstorm = JobStorm(shared_dir=\"/home/shared\", project=\"jobstorm\", python_cmd=\"python3\")\n",
    "\n",
    "# import\n",
    "import numpy as np\n",
    "\n",
    "#%matplotlib inline\n",
    "\n",
    "from qiskit import (\n",
    "    QuantumCircuit,\n",
    "    BasicAer,\n",
    "    transpile,\n",
    ")\n",
    "from qiskit.visualization import plot_histogram\n",
    "from qiskit.circuit.library import XGate, QuadraticForm\n",
    "\n",
    "# Set the above import code to JobStorm.\n",
    "jobstorm.setcode()\n",
    "\n",
    "print(\"Imports Successful\")"
   ]
  },
  {
   "cell_type": "code",
   "execution_count": 2,
   "id": "04c5a176-0c95-46b4-ae9d-3d9a2dc65ec2",
   "metadata": {},
   "outputs": [],
   "source": [
    "def result_top_n(result, n):\n",
    "    res = [ [k, v] for k, v in result.items() ]\n",
    "    res.sort(key=lambda x: x[1], reverse=True)\n",
    "    k, v = zip(*res[0:min(len(result), n)])\n",
    "    return dict(zip(k, v))\n",
    "\n",
    "def print_result(result, v, b, r, k, n):\n",
    "    res = [ [k, v] for k, v in result.items() ]\n",
    "    res.sort(key=lambda x: x[1], reverse=True)\n",
    "    p = res[n][0]\n",
    "    for i in range(int(len(p)/b)):\n",
    "        print(p[i*b:(i*b+b)])"
   ]
  },
  {
   "cell_type": "code",
   "execution_count": 3,
   "id": "4a0dc9b3-d57a-4c40-ace4-b6776a2ec1d0",
   "metadata": {},
   "outputs": [],
   "source": [
    "# Apply x gate to target qubit if control_qubits[i] == 1 for any i.\n",
    "def cnx(qc, cqlist, tq):\n",
    "    n = len(cqlist)\n",
    "    cnx_gate = XGate().control(n)\n",
    "    qc.append(cnx_gate, cqlist + [tq])\n",
    "\n",
    "# Apply x gate to target qubit if control_qubits is the binary representation of n.\n",
    "def eqx(qc, cqlist, tq, n):\n",
    "    bindata = bin(n)\n",
    "    rblist = list(map(lambda x: int(x), bindata[2:]))\n",
    "    blist = list(reversed(rblist))\n",
    "    bidx = ([i for i, x in enumerate(blist) if x == 1])\n",
    "    for i in range(len(cqlist)):\n",
    "        if i in bidx:\n",
    "            continue\n",
    "        qc.x(cqlist[i])\n",
    "    cnx(qc, cqlist, tq)\n",
    "    for i in range(len(cqlist)):\n",
    "        if i in bidx:\n",
    "            continue\n",
    "        qc.x(cqlist[i])\n",
    "\n",
    "# Apply x gate to target qubit if the sum of qubits is n.\n",
    "def sumeqx(qc, sumqlist, workqlist, tq, n):\n",
    "    qubits = len(bin(len(sumqlist))) - 2\n",
    "    tmpqlist = workqlist[0:qubits]\n",
    "    qf = QuadraticForm(num_result_qubits=qubits, linear=[1]*len(sumqlist))\n",
    "    qc.append(qf, sumqlist + tmpqlist)\n",
    "    eqx(qc, tmpqlist, tq, n)\n",
    "    qc.append(qf.inverse(), sumqlist + tmpqlist)\n",
    "\n",
    "# Make a quantum circuit which verifies regular uniform designs.\n",
    "def rud_oracle(qc, v, b, r, k):\n",
    "    if b*k != v*r:\n",
    "        raise ValueError(\"b*k != v*r\")\n",
    "    \n",
    "    p = np.arange(v * b)\n",
    "    matp = p.reshape([v, b])\n",
    "    colp = matp.tolist()\n",
    "    rowp = matp.transpose().tolist()\n",
    "    \n",
    "    n_p = len(p)\n",
    "    n_col = len(colp)\n",
    "    n_row = len(rowp)\n",
    "    n_tmp = (len(bin(max(v, b))) - 2)\n",
    "    n_req_qubits = n_p + n_col + n_row + n_tmp + 1\n",
    "\n",
    "    n_qubits = len(qc.qubits)\n",
    "    if n_req_qubits > n_qubits:\n",
    "        raise ValueError(f\"rud circuit need qubits > {n_req_qubits}\")\n",
    "\n",
    "    pq = list(range(0, n_p))\n",
    "    colq = list(range(n_p, n_p + n_col))\n",
    "    rowq = list(range(n_p + n_col, n_p + n_col + n_row))\n",
    "    tmpq = list(range(n_p + n_col + n_row, n_p + n_col + n_row + n_tmp))\n",
    "    tq = n_p + n_col + n_row + n_tmp\n",
    "    \n",
    "    for i, col in enumerate(colp):\n",
    "        sumeqx(qc, list(col), tmpq, colq[i], r)\n",
    "    for i, row in enumerate(rowp):\n",
    "        sumeqx(qc, list(row), tmpq, rowq[i], k)\n",
    "    cnx(qc, colq + rowq, tq)\n",
    "    for i, col in enumerate(colp):\n",
    "        sumeqx(qc, list(col), tmpq, colq[i], r)\n",
    "    for i, row in enumerate(rowp):\n",
    "        sumeqx(qc, list(row), tmpq, rowq[i], k)\n",
    "    return pq, colq, rowq, tmpq, tq\n",
    "\n",
    "# One step of Grover algorithm\n",
    "def rud_grover_step(qc, v, b, r, k):\n",
    "    pq, colq, rowq, tmpq, tq = rud_oracle(qc, v, b, r, k)\n",
    "    for i in pq:\n",
    "        qc.h(i)\n",
    "        qc.x(i)\n",
    "        if i==pq[-1]:\n",
    "            qc.h(i)\n",
    "    cnx(qc, pq[0:-1], pq[-1])\n",
    "    for i in pq:\n",
    "        qc.h(i)\n",
    "        qc.x(i)\n",
    "        if i==pq[-1]:\n",
    "            qc.h(i)\n",
    "\n",
    "# Grover algorithm\n",
    "def rud_grover(v, b, r, k, itn):\n",
    "    n_p = v * b\n",
    "    n_col = v\n",
    "    n_row = b\n",
    "    n_tmp = (len(bin(max(v, b))) - 2)\n",
    "    n_req_qubits = n_p + n_col + n_row + n_tmp + 1\n",
    "    \n",
    "    qc = QuantumCircuit(n_req_qubits, n_p)\n",
    "    for i in range(n_p):\n",
    "        qc.h(i)\n",
    "    qc.x(n_req_qubits - 1)\n",
    "    qc.h(n_req_qubits - 1)\n",
    "    for loop in range(itn):\n",
    "        rud_grover_step(qc, v, b, r, k)\n",
    "    for i in range(n_p):\n",
    "        qc.measure(i, i)\n",
    "    return qc"
   ]
  },
  {
   "cell_type": "code",
   "execution_count": 4,
   "id": "47afbcc1-6ecf-4ce7-a257-b5d32a5dbe1e",
   "metadata": {},
   "outputs": [],
   "source": [
    "# Solve regular uniform designs.\n",
    "def rud_calc(v, b, r, k, itn):\n",
    "    qc = rud_grover(v, b, r, k, itn)\n",
    "    backend = BasicAer.get_backend('qasm_simulator')\n",
    "    job = backend.run(transpile(qc, backend))\n",
    "    result = job.result().get_counts()\n",
    "    return result"
   ]
  },
  {
   "cell_type": "code",
   "execution_count": 5,
   "id": "29d1006e-49e7-4d65-8adc-d69a422b37a3",
   "metadata": {},
   "outputs": [
    {
     "data": {
      "text/plain": [
       "'/home/shared/jobstorm/tmp_20230709031813607901.py'"
      ]
     },
     "execution_count": 5,
     "metadata": {},
     "output_type": "execute_result"
    }
   ],
   "source": [
    "# Set all function definitions to JobStorm.\n",
    "# JobStorm outputs a function script file.\n",
    "jobstorm.savefunc()"
   ]
  },
  {
   "cell_type": "code",
   "execution_count": 6,
   "id": "6104adac-9ead-4e6e-8d73-9272361dbf3b",
   "metadata": {},
   "outputs": [],
   "source": [
    "# Run \"rud_calc\" function as a job.\n",
    "# JobStorm outputs a job script file.\n",
    "# Be careful of large memory usage.\n",
    "# v or b > 3 is not recommended.\n",
    "param_vbrk = (3, 3, 1, 1)\n",
    "steps = 2\n",
    "jobresult = jobstorm.makefuncjob(\"rud_calc\", *param_vbrk, steps)"
   ]
  },
  {
   "cell_type": "code",
   "execution_count": 11,
   "id": "5bffb94a-0ff0-4d88-a07b-cd3cbece7e75",
   "metadata": {},
   "outputs": [
    {
     "name": "stdout",
     "output_type": "stream",
     "text": [
      "SUCCESS\n"
     ]
    }
   ],
   "source": [
    "# Check the job status.\n",
    "print(jobresult.get_status())"
   ]
  },
  {
   "cell_type": "code",
   "execution_count": 12,
   "id": "8399c595-bb50-48db-986f-6f07bc9fb287",
   "metadata": {},
   "outputs": [
    {
     "name": "stdout",
     "output_type": "stream",
     "text": [
      "  job num  timestamp            result    job script                       function script\n",
      "---------  -------------------  --------  -------------------------------  ---------------------------\n",
      "        5  2023/07/09 03:18:22  SUCCESS   tmp_20230709031814569038_job.py  tmp_20230709031813607901.py\n",
      "        1  2023/07/05 01:18:57  SUCCESS   tmp_20230705011849040675_job.py\n"
     ]
    }
   ],
   "source": [
    "# Show the job list of the Jenkins project.\n",
    "jobstorm.print_job_list()"
   ]
  },
  {
   "cell_type": "code",
   "execution_count": 13,
   "id": "f3eed601-56a1-4218-b890-98284995b2ae",
   "metadata": {},
   "outputs": [],
   "source": [
    "# Retrieve the result of the job.\n",
    "result = jobresult.get_result()"
   ]
  },
  {
   "cell_type": "code",
   "execution_count": 14,
   "id": "e12e2f40-98d8-406d-89b0-8a9ae2283db9",
   "metadata": {},
   "outputs": [
    {
     "name": "stdout",
     "output_type": "stream",
     "text": [
      "010\n",
      "001\n",
      "100\n"
     ]
    }
   ],
   "source": [
    "# Get top 10 solutions\n",
    "result10 = result_top_n(result, 10)\n",
    "# print result[0]\n",
    "print_result(result10, *param_vbrk, 0)"
   ]
  },
  {
   "cell_type": "code",
   "execution_count": 15,
   "id": "30b013f5-08e1-493e-91d4-170565c5b91a",
   "metadata": {},
   "outputs": [
    {
     "data": {
      "image/png": "[encoded data removed]",
      "text/plain": [
       "<Figure size 504x360 with 1 Axes>"
      ]
     },
     "execution_count": 15,
     "metadata": {},
     "output_type": "execute_result"
    }
   ],
   "source": [
    "plot_histogram(result10)"
   ]
  },
  {
   "cell_type": "code",
   "execution_count": 16,
   "id": "0ddb6e51-819d-4321-8147-68d6ab007e2c",
   "metadata": {},
   "outputs": [
    {
     "name": "stdout",
     "output_type": "stream",
     "text": [
      "/home/shared/jobstorm/tmp_20230709031814569038_job.py is removed.\n",
      "/home/shared/jobstorm/tmp_20230709031814569038.param is removed.\n",
      "/home/shared/jobstorm/tmp_20230709031814569038.param.output is removed.\n",
      "/home/shared/jobstorm/tmp_20230709031813607901.py is removed.\n",
      "delete build job not implemented because of jenkins request error.\n"
     ]
    }
   ],
   "source": [
    "jobstorm.delete_job(5)"
   ]
  },
  {
   "cell_type": "code",
   "execution_count": null,
   "id": "a3943145-bd46-4c6d-954b-236ad156181e",
   "metadata": {},
   "outputs": [],
   "source": []
  }
 ],
 "metadata": {
  "kernelspec": {
   "display_name": "Python 3 (ipykernel)",
   "language": "python",
   "name": "python3"
  },
  "language_info": {
   "codemirror_mode": {
    "name": "ipython",
    "version": 3
   },
   "file_extension": ".py",
   "mimetype": "text/x-python",
   "name": "python",
   "nbconvert_exporter": "python",
   "pygments_lexer": "ipython3",
   "version": "3.10.6"
  }
 },
 "nbformat": 4,
 "nbformat_minor": 5
}
