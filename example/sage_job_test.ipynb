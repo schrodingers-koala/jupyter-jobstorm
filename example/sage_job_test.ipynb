{
 "cells": [
  {
   "cell_type": "code",
   "execution_count": null,
   "id": "d076d09c-9996-4173-abeb-7859b8d492fb",
   "metadata": {},
   "outputs": [],
   "source": [
    "# Initial setup for JobStorm to use Jenkins project.\n",
    "# No need to run this cell after the initial setup.\n",
    "from jobstorm import *\n",
    "jobstorm = JobStorm(\"http://localhost:8080\",\n",
    "                    username=\"jenkins_run\",\n",
    "                    password=\"jenkins_run\",\n",
    "                    shared_dir=\"/home/shared\",\n",
    "                    project=\"jobstorm\",\n",
    "                    python_cmd=\"python3\",\n",
    "                   )\n",
    "# Create a Jenkins project and a job workspace.\n",
    "jobstorm.create_project()"
   ]
  },
  {
   "cell_type": "code",
   "execution_count": 1,
   "id": "676b63c0-b67f-4cfe-b3aa-cde4c3a0ad57",
   "metadata": {},
   "outputs": [
    {
     "name": "stdout",
     "output_type": "stream",
     "text": [
      "/home/shared/jobstorm already exists.\n"
     ]
    }
   ],
   "source": [
    "from jobstorm import *\n",
    "jobstorm = JobStorm.sage(shared_dir=\"/home/shared\", project=\"jobstorm\", job_cmd=\"sage\")\n",
    "\n",
    "# Import\n",
    "import time\n",
    "\n",
    "# Set the above import code to JobStorm.\n",
    "jobstorm.setcode()"
   ]
  },
  {
   "cell_type": "code",
   "execution_count": 2,
   "id": "416b2f36-07ab-4b6a-8269-5a296d2457a1",
   "metadata": {},
   "outputs": [],
   "source": [
    "bits=16\n",
    "p = random_prime(2^(bits/2), false, 2^(bits/2-1))\n",
    "q = random_prime(2^(bits/2), false, 2^(bits/2-1))\n",
    "N = p * q"
   ]
  },
  {
   "cell_type": "code",
   "execution_count": 3,
   "id": "f41367bd-a971-4f16-9ac5-a58defc6fccc",
   "metadata": {},
   "outputs": [],
   "source": [
    "# Function definition\n",
    "def my_task(N):\n",
    "    return factor(N)\n"
   ]
  },
  {
   "cell_type": "code",
   "execution_count": 4,
   "id": "9a7a4497-a0cd-462c-91cc-0ece0d825be6",
   "metadata": {},
   "outputs": [
    {
     "data": {
      "text/plain": [
       "'/home/shared/jobstorm/tmp_20230709123307004344.sage'"
      ]
     },
     "execution_count": 4,
     "metadata": {},
     "output_type": "execute_result"
    }
   ],
   "source": [
    "# Set all function definitions to JobStorm.\n",
    "# JobStorm outputs a function script file.\n",
    "jobstorm.savefunc()"
   ]
  },
  {
   "cell_type": "code",
   "execution_count": 5,
   "id": "fb324e99-efc4-4720-a7ad-45f9d07433c3",
   "metadata": {},
   "outputs": [],
   "source": [
    "# Run \"my_task\" function as a job.\n",
    "# JobStorm outputs a job script file.\n",
    "jobresult = jobstorm.makefuncjob(\"my_task\", N)"
   ]
  },
  {
   "cell_type": "code",
   "execution_count": 6,
   "id": "43cb78a0-7e3b-4b5e-bdfa-c5d248e74e42",
   "metadata": {},
   "outputs": [
    {
     "name": "stdout",
     "output_type": "stream",
     "text": [
      "SUCCESS\n"
     ]
    }
   ],
   "source": [
    "# Check the job status.\n",
    "print(jobresult.get_status())"
   ]
  },
  {
   "cell_type": "code",
   "execution_count": 7,
   "id": "cc879968-e7d7-4fa8-9a86-41d2d1266792",
   "metadata": {},
   "outputs": [
    {
     "name": "stdout",
     "output_type": "stream",
     "text": [
      "  job num  timestamp            result    job script                         function script\n",
      "---------  -------------------  --------  ---------------------------------  -----------------------------\n",
      "        4  2023/07/09 12:33:15  SUCCESS   tmp_20230709123308315254_job.sage  tmp_20230709123307004344.sage\n",
      "        3  2023/07/09 12:31:20  SUCCESS   tmp_20230709123113757826_job.sage  tmp_20230709123007585322.sage\n",
      "        2  2023/07/09 12:30:20  SUCCESS   tmp_20230709123011977302_job.sage  tmp_20230709123007585322.sage\n",
      "        1  2023/07/09 12:29:10  SUCCESS   tmp_20230709122904841034_job.py    tmp_20230709122903468445.py\n"
     ]
    }
   ],
   "source": [
    "# Show the job list of the Jenkins project.\n",
    "jobstorm.print_job_list()"
   ]
  },
  {
   "cell_type": "code",
   "execution_count": 8,
   "id": "69889924-8fec-44f8-b9a9-a5bd6f89af15",
   "metadata": {},
   "outputs": [
    {
     "name": "stdout",
     "output_type": "stream",
     "text": [
      "191 * 233\n"
     ]
    }
   ],
   "source": [
    "# Retrieve the result of the job.\n",
    "result = jobresult.get_result()\n",
    "print(result)"
   ]
  },
  {
   "cell_type": "code",
   "execution_count": null,
   "id": "72d1de07-cca7-462e-b4a3-6b5d7b050d30",
   "metadata": {},
   "outputs": [],
   "source": [
    "jobstorm.delete_job(1)"
   ]
  },
  {
   "cell_type": "code",
   "execution_count": null,
   "id": "cae16a26-d509-4354-a864-92d91ba1052c",
   "metadata": {},
   "outputs": [],
   "source": []
  }
 ],
 "metadata": {
  "kernelspec": {
   "display_name": "SageMath 9.5",
   "language": "sage",
   "name": "sagemath"
  },
  "language_info": {
   "codemirror_mode": {
    "name": "ipython",
    "version": 3
   },
   "file_extension": ".py",
   "mimetype": "text/x-python",
   "name": "python",
   "nbconvert_exporter": "python",
   "pygments_lexer": "ipython3",
   "version": "3.10.6"
  }
 },
 "nbformat": 4,
 "nbformat_minor": 5
}
