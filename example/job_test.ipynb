{
 "cells": [
  {
   "cell_type": "code",
   "execution_count": 1,
   "id": "d85aa6f6-2e1f-4c61-8468-f3f0359dad66",
   "metadata": {},
   "outputs": [
    {
     "name": "stdout",
     "output_type": "stream",
     "text": [
      "project (name=jobstorm) is not created.\n",
      "please create project by create_project().\n"
     ]
    }
   ],
   "source": [
    "# Initial setup for JobStorm to use Jenkins project.\n",
    "# No need to run this cell after the initial setup.\n",
    "from jobstorm import *\n",
    "jobstorm = JobStorm(\"http://localhost:8080\",\n",
    "                    username=\"jenkins_run\",\n",
    "                    password=\"jenkins_run\",\n",
    "                    shared_dir=\"/home/shared\",\n",
    "                    project=\"jobstorm\",\n",
    "                    python_cmd=\"python3\",\n",
    "                   )\n",
    "# Create a Jenkins project and a job workspace.\n",
    "jobstorm.create_project()"
   ]
  },
  {
   "cell_type": "code",
   "execution_count": 2,
   "id": "7eacaa2a-da16-4419-a945-75bf71ed3d76",
   "metadata": {},
   "outputs": [
    {
     "name": "stdout",
     "output_type": "stream",
     "text": [
      "/home/shared/jobstorm already exists.\n"
     ]
    }
   ],
   "source": [
    "from jobstorm import *\n",
    "jobstorm = JobStorm(shared_dir=\"/home/shared\", project=\"jobstorm\", python_cmd=\"python3\")\n",
    "\n",
    "# Import\n",
    "import time\n",
    "\n",
    "# Set the above import code to JobStorm.\n",
    "jobstorm.setcode()"
   ]
  },
  {
   "cell_type": "code",
   "execution_count": 3,
   "id": "8bd85e4d-40d1-4804-94b8-0e22095d7a90",
   "metadata": {},
   "outputs": [],
   "source": [
    "# Function definition\n",
    "def my_task(t):\n",
    "    time.sleep(t)\n",
    "    return t, f\"this is a test. {t} seconds sleep.\"\n"
   ]
  },
  {
   "cell_type": "code",
   "execution_count": 4,
   "id": "7af62038-062b-4f8d-bd1d-37408798fcf7",
   "metadata": {},
   "outputs": [
    {
     "data": {
      "text/plain": [
       "'/home/shared/jobstorm/tmp_20230705011847780969.py'"
      ]
     },
     "execution_count": 4,
     "metadata": {},
     "output_type": "execute_result"
    }
   ],
   "source": [
    "# Set all function definitions to JobStorm.\n",
    "# JobStorm outputs a function script file.\n",
    "jobstorm.savefunc()"
   ]
  },
  {
   "cell_type": "code",
   "execution_count": 5,
   "id": "970c80b2-72d1-4cc3-80e3-81f57699a342",
   "metadata": {},
   "outputs": [],
   "source": [
    "# Run \"my_task\" function as a job.\n",
    "# JobStorm outputs a job script file.\n",
    "jobresult = jobstorm.makefuncjob(\"my_task\", 5)"
   ]
  },
  {
   "cell_type": "code",
   "execution_count": 11,
   "id": "7a0c86d2-a43b-4812-81ab-dceadb4e4aeb",
   "metadata": {},
   "outputs": [
    {
     "name": "stdout",
     "output_type": "stream",
     "text": [
      "SUCCESS\n"
     ]
    }
   ],
   "source": [
    "# Check the job status.\n",
    "print(jobresult.get_status())"
   ]
  },
  {
   "cell_type": "code",
   "execution_count": 12,
   "id": "b42327d4-42d6-46d8-b147-432a515c9780",
   "metadata": {},
   "outputs": [
    {
     "name": "stdout",
     "output_type": "stream",
     "text": [
      "  job num  timestamp            result    job script                       function script\n",
      "---------  -------------------  --------  -------------------------------  ---------------------------\n",
      "        1  2023/07/05 01:18:57  SUCCESS   tmp_20230705011849040675_job.py  tmp_20230705011847780969.py\n"
     ]
    }
   ],
   "source": [
    "# Show the job list of the Jenkins project.\n",
    "jobstorm.print_job_list()"
   ]
  },
  {
   "cell_type": "code",
   "execution_count": 13,
   "id": "f9363b59-75f7-48c5-b44c-d91c09a0468f",
   "metadata": {},
   "outputs": [
    {
     "name": "stdout",
     "output_type": "stream",
     "text": [
      "(5, 'this is a test. 5 seconds sleep.')\n"
     ]
    }
   ],
   "source": [
    "# Retrieve the result of the job.\n",
    "result = jobresult.get_result()\n",
    "print(result)"
   ]
  },
  {
   "cell_type": "code",
   "execution_count": 14,
   "id": "8662c9af-d467-4aa2-93f1-bd56137b5c82",
   "metadata": {},
   "outputs": [
    {
     "name": "stdout",
     "output_type": "stream",
     "text": [
      "/home/shared/jobstorm/tmp_20230705011849040675_job.py is removed.\n",
      "/home/shared/jobstorm/tmp_20230705011849040675.param is removed.\n",
      "/home/shared/jobstorm/tmp_20230705011849040675.param.output is removed.\n",
      "/home/shared/jobstorm/tmp_20230705011847780969.py is removed.\n",
      "delete build job not implemented because of jenkins request error.\n"
     ]
    }
   ],
   "source": [
    "jobstorm.delete_job(1)"
   ]
  },
  {
   "cell_type": "code",
   "execution_count": null,
   "id": "dd348e13-30a7-41a0-8a39-8b8f280f085f",
   "metadata": {},
   "outputs": [],
   "source": []
  }
 ],
 "metadata": {
  "kernelspec": {
   "display_name": "Python 3 (ipykernel)",
   "language": "python",
   "name": "python3"
  },
  "language_info": {
   "codemirror_mode": {
    "name": "ipython",
    "version": 3
   },
   "file_extension": ".py",
   "mimetype": "text/x-python",
   "name": "python",
   "nbconvert_exporter": "python",
   "pygments_lexer": "ipython3",
   "version": "3.10.6"
  }
 },
 "nbformat": 4,
 "nbformat_minor": 5
}
